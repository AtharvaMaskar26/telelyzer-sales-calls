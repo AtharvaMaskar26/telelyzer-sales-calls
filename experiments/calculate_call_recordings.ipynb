{
 "cells": [
  {
   "cell_type": "code",
   "execution_count": 5,
   "metadata": {},
   "outputs": [
    {
     "name": "stdout",
     "output_type": "stream",
     "text": [
      "Total Duration: 31 hours, 45 minutes, and 25 seconds\n"
     ]
    }
   ],
   "source": [
    "import os\n",
    "from pydub import AudioSegment\n",
    "\n",
    "def calculate_total_duration(folder_path):\n",
    "    total_duration = 0  # Duration in milliseconds\n",
    "\n",
    "    # Loop through all files in the folder\n",
    "    for file_name in os.listdir(folder_path):\n",
    "        file_path = os.path.join(folder_path, file_name)\n",
    "\n",
    "        # Check if the file is an audio file (you can adjust extensions as needed)\n",
    "        if file_name.lower().endswith(('.mp3', '.wav', '.flac', '.aac')):\n",
    "            try:\n",
    "                # Load the audio file\n",
    "                audio = AudioSegment.from_file(file_path)\n",
    "\n",
    "                # Add the duration of the current file (in milliseconds)\n",
    "                total_duration += len(audio)\n",
    "            except Exception as e:\n",
    "                print(f\"Error processing file {file_name}: {e}\")\n",
    "    \n",
    "    # Convert total duration from milliseconds to hours, minutes, and seconds\n",
    "    total_seconds = total_duration // 1000\n",
    "    hours = total_seconds // 3600\n",
    "    minutes = (total_seconds % 3600) // 60\n",
    "    seconds = total_seconds % 60\n",
    "\n",
    "    return hours, minutes, seconds\n",
    "\n",
    "# Replace with your folder path\n",
    "folder_path = \"../data/call_recordings\"\n",
    "hours, minutes, seconds = calculate_total_duration(folder_path)\n",
    "\n",
    "print(f\"Total Duration: {hours} hours, {minutes} minutes, and {seconds} seconds\")"
   ]
  }
 ],
 "metadata": {
  "kernelspec": {
   "display_name": "telelyzer-sales-venv",
   "language": "python",
   "name": "python3"
  },
  "language_info": {
   "codemirror_mode": {
    "name": "ipython",
    "version": 3
   },
   "file_extension": ".py",
   "mimetype": "text/x-python",
   "name": "python",
   "nbconvert_exporter": "python",
   "pygments_lexer": "ipython3",
   "version": "3.12.7"
  }
 },
 "nbformat": 4,
 "nbformat_minor": 2
}
